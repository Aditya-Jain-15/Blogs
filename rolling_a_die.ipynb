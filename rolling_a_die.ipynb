{
  "nbformat": 4,
  "nbformat_minor": 0,
  "metadata": {
    "colab": {
      "name": "rolling_a_die.ipynb",
      "provenance": []
    },
    "kernelspec": {
      "name": "python3",
      "display_name": "Python 3"
    }
  },
  "cells": [
    {
      "cell_type": "markdown",
      "metadata": {
        "id": "_pDc4YvpEdGS",
        "colab_type": "text"
      },
      "source": [
        "# This is the python code to demonstrate the \"Rolling a die\" experiment in relative frequency approach to probability."
      ]
    },
    {
      "cell_type": "markdown",
      "metadata": {
        "id": "EZfgrYFbHFM6",
        "colab_type": "text"
      },
      "source": [
        "Note that in the relative frequency (frequentist) approach, we do not define probability of an event in a single trial. Rather, the probability of an event is determined by the frequency of the event occurring when the same experiment is repeated many times.\n",
        "\n",
        "**Relative frequency or Frequentist approach to probability**:\n",
        "\n",
        "Suppose the experiment is repeated '$n$' times and event A occurs '$n_A$' times. Then, \n",
        "\n",
        "P(A) = $lim_{n\\to\\infty} (\\frac{n_A}{n})$"
      ]
    },
    {
      "cell_type": "markdown",
      "metadata": {
        "id": "vrmgLDsZEs1T",
        "colab_type": "text"
      },
      "source": [
        "### import libraries"
      ]
    },
    {
      "cell_type": "code",
      "metadata": {
        "id": "ieBqZqfDEAFC",
        "colab_type": "code",
        "colab": {}
      },
      "source": [
        "import random"
      ],
      "execution_count": 7,
      "outputs": []
    },
    {
      "cell_type": "markdown",
      "metadata": {
        "id": "nJ8lVqmtJdsr",
        "colab_type": "text"
      },
      "source": [
        "# experiment"
      ]
    },
    {
      "cell_type": "code",
      "metadata": {
        "id": "6m-DNrDSEDbN",
        "colab_type": "code",
        "colab": {}
      },
      "source": [
        "num_iters = 100000 # number of times to roll the die\n",
        "S = [1,2,3,4,5,6] # sample space S\n",
        "outcomes = [] # list to store the outcomes\n",
        "\n",
        "for i in range(num_iters):\n",
        "  current_outcome = random.choice(S) # roll the die and note the outcome\n",
        "  outcomes.append(current_outcome) # save the outcome in the list"
      ],
      "execution_count": 14,
      "outputs": []
    },
    {
      "cell_type": "code",
      "metadata": {
        "id": "T4jjrFf4EZkr",
        "colab_type": "code",
        "colab": {
          "base_uri": "https://localhost:8080/",
          "height": 54
        },
        "outputId": "ffcc3bad-f41b-445b-dd36-aa3bb7663b5a"
      },
      "source": [
        "# Let E be the event that the outcome is an odd number.\n",
        "# We will see how many times the event E occurred.\n",
        "\n",
        "num_e = 0 # number of times the event E occurred\n",
        "for outcome in outcomes:\n",
        "  if outcome%2==1:\n",
        "    num_e+=1\n",
        "\n",
        "print(\"Number of times the event E occurred = {}\".format(num_e))\n",
        "print(\"P(E) = {}\".format(num_e/num_iters))"
      ],
      "execution_count": 15,
      "outputs": [
        {
          "output_type": "stream",
          "text": [
            "Number of times the event E occurred = 499769\n",
            "P(E) = 0.499769\n"
          ],
          "name": "stdout"
        }
      ]
    },
    {
      "cell_type": "markdown",
      "metadata": {
        "id": "vF1bN5lwI8GG",
        "colab_type": "text"
      },
      "source": [
        "**Note**: \n",
        "\n",
        "The readers should play with the value of num_iters variable. You will see,\n",
        "as we increase the value of num_iters (i.e. as ${n\\to\\infty}$), the value of P(E) will tend towards 0.5. "
      ]
    },
    {
      "cell_type": "code",
      "metadata": {
        "id": "c9mdB7MCFNCr",
        "colab_type": "code",
        "colab": {}
      },
      "source": [
        ""
      ],
      "execution_count": null,
      "outputs": []
    }
  ]
}